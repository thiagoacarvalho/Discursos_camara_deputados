{
 "cells": [
  {
   "cell_type": "markdown",
   "metadata": {},
   "source": [
    "# Exemplo simples de geração de tópicos com NMF"
   ]
  },
  {
   "cell_type": "markdown",
   "metadata": {},
   "source": [
    "#### Vou tentar mostrar aqui como os tópicos são gerados a partir da matriz TFIDF para um caso bem simples"
   ]
  },
  {
   "cell_type": "markdown",
   "metadata": {},
   "source": [
    "##### A parte abaixo pode ser ignorada, trata-se apenas de importaçoes que serão usadas"
   ]
  },
  {
   "cell_type": "code",
   "execution_count": 268,
   "metadata": {
    "collapsed": false
   },
   "outputs": [],
   "source": [
    "import warnings\n",
    "warnings.filterwarnings('ignore')\n",
    "from nltk.stem.snowball import PortugueseStemmer\n",
    "from gensim.utils import simple_preprocess\n",
    "import unicodedata\n",
    "import gensim\n",
    "import re\n",
    "import matplotlib.pyplot as plt\n",
    "import pandas as pd\n",
    "import numpy as np\n",
    "from pprint import pprint\n",
    "import itertools\n",
    "from multiprocessing import Pool\n",
    "from sklearn.feature_extraction.text import TfidfVectorizer\n",
    "from sklearn.decomposition import NMF\n",
    "from leitor_discursos_camara_model import Camara_Sessao, Camara_FaseSessao, Camara_Discurso\n",
    "import nomes_deputados\n",
    "reload( nomes_deputados )\n",
    "from nomes_deputados import lista_nomes_deputados, lista_partidos, vocab_especifico\n",
    "\n",
    "\n"
   ]
  },
  {
   "cell_type": "markdown",
   "metadata": {},
   "source": [
    "### Aqui vou gerar um conjunto de textos simulando o que pode ocorrer na realidade do nosso conjunto  para responder a pergunta do André: Por exemplo, como os grupos temáticos são formados. Como os diversos grupos de orçamento foram formados, a partir do radical \"orçament\"\n",
    "\n",
    "##### Vamos supor que temos 4 textos, pertencentes a 3 tópicos, todos com a palavra orcamento, um da saude e um sobre resposabilidade fiscal e outro sobre aumento de gastos para saude, e vamos supor ainda que a frequencia da palavra orcamento varie tambem de um texto para o outro.\n",
    "##### Vou usar apenas palavras chaves para evitar fazer a limpeza dos textos"
   ]
  },
  {
   "cell_type": "code",
   "execution_count": 269,
   "metadata": {
    "collapsed": false
   },
   "outputs": [
    {
     "data": {
      "text/plain": [
       "[['orcamento saude hospital medicos'],\n",
       " ['orcamento loa responsabilidade qualidade orcamento lrf orcamento'],\n",
       " ['orcamento hospital hospital saude precario orcamento'],\n",
       " ['orcamento aumento gastos loa']]"
      ]
     },
     "execution_count": 269,
     "metadata": {},
     "output_type": "execute_result"
    }
   ],
   "source": [
    "textos = [\n",
    "    ['orcamento saude hospital medicos'], ## orçamento sobre saude\n",
    "    ['orcamento loa responsabilidade qualidade orcamento lrf orcamento'], ## orçamento voltado para qualidade, responsabilidade\n",
    "    ['orcamento hospital hospital saude precario orcamento'], ## orçamento sobre saúde - está precario!\n",
    "    ['orcamento aumento gastos loa'] ## orçamento voltado para aumento de gastos\n",
    "]\n",
    "textos"
   ]
  },
  {
   "cell_type": "code",
   "execution_count": 270,
   "metadata": {
    "collapsed": false,
    "scrolled": true
   },
   "outputs": [
    {
     "data": {
      "text/html": [
       "<div>\n",
       "<table border=\"1\" class=\"dataframe\">\n",
       "  <thead>\n",
       "    <tr style=\"text-align: right;\">\n",
       "      <th></th>\n",
       "      <th>texto_inicial</th>\n",
       "    </tr>\n",
       "  </thead>\n",
       "  <tbody>\n",
       "    <tr>\n",
       "      <th>0</th>\n",
       "      <td>orcamento saude hospital medicos</td>\n",
       "    </tr>\n",
       "    <tr>\n",
       "      <th>1</th>\n",
       "      <td>orcamento loa responsabilidade qualidade orcam...</td>\n",
       "    </tr>\n",
       "    <tr>\n",
       "      <th>2</th>\n",
       "      <td>orcamento hospital hospital saude precario orc...</td>\n",
       "    </tr>\n",
       "    <tr>\n",
       "      <th>3</th>\n",
       "      <td>orcamento aumento gastos loa</td>\n",
       "    </tr>\n",
       "  </tbody>\n",
       "</table>\n",
       "</div>"
      ],
      "text/plain": [
       "                                       texto_inicial\n",
       "0                   orcamento saude hospital medicos\n",
       "1  orcamento loa responsabilidade qualidade orcam...\n",
       "2  orcamento hospital hospital saude precario orc...\n",
       "3                       orcamento aumento gastos loa"
      ]
     },
     "execution_count": 270,
     "metadata": {},
     "output_type": "execute_result"
    }
   ],
   "source": [
    "df_textos = pd.DataFrame(textos, columns=['texto_inicial'])\n",
    "df_textos"
   ]
  },
  {
   "cell_type": "markdown",
   "metadata": {},
   "source": [
    "#### Quebra em palavras:"
   ]
  },
  {
   "cell_type": "code",
   "execution_count": 271,
   "metadata": {
    "collapsed": false,
    "scrolled": true
   },
   "outputs": [
    {
     "data": {
      "text/html": [
       "<div>\n",
       "<table border=\"1\" class=\"dataframe\">\n",
       "  <thead>\n",
       "    <tr style=\"text-align: right;\">\n",
       "      <th></th>\n",
       "      <th>texto_inicial</th>\n",
       "      <th>tokens</th>\n",
       "    </tr>\n",
       "  </thead>\n",
       "  <tbody>\n",
       "    <tr>\n",
       "      <th>0</th>\n",
       "      <td>orcamento saude hospital medicos</td>\n",
       "      <td>[orcamento, saude, hospital, medicos]</td>\n",
       "    </tr>\n",
       "    <tr>\n",
       "      <th>1</th>\n",
       "      <td>orcamento loa responsabilidade qualidade orcam...</td>\n",
       "      <td>[orcamento, loa, qualidade, orcamento, lrf, or...</td>\n",
       "    </tr>\n",
       "    <tr>\n",
       "      <th>2</th>\n",
       "      <td>orcamento hospital hospital saude precario orc...</td>\n",
       "      <td>[orcamento, hospital, hospital, saude, precari...</td>\n",
       "    </tr>\n",
       "    <tr>\n",
       "      <th>3</th>\n",
       "      <td>orcamento aumento gastos loa</td>\n",
       "      <td>[orcamento, aumento, gastos, loa]</td>\n",
       "    </tr>\n",
       "  </tbody>\n",
       "</table>\n",
       "</div>"
      ],
      "text/plain": [
       "                                       texto_inicial  \\\n",
       "0                   orcamento saude hospital medicos   \n",
       "1  orcamento loa responsabilidade qualidade orcam...   \n",
       "2  orcamento hospital hospital saude precario orc...   \n",
       "3                       orcamento aumento gastos loa   \n",
       "\n",
       "                                              tokens  \n",
       "0              [orcamento, saude, hospital, medicos]  \n",
       "1  [orcamento, loa, qualidade, orcamento, lrf, or...  \n",
       "2  [orcamento, hospital, hospital, saude, precari...  \n",
       "3                  [orcamento, aumento, gastos, loa]  "
      ]
     },
     "execution_count": 271,
     "metadata": {},
     "output_type": "execute_result"
    }
   ],
   "source": [
    "df_textos['tokens'] = df_textos.texto_inicial.apply(simple_preprocess)\n",
    "df_textos"
   ]
  },
  {
   "cell_type": "markdown",
   "metadata": {},
   "source": [
    "#### Dicionario criado a partir dos textos"
   ]
  },
  {
   "cell_type": "code",
   "execution_count": 272,
   "metadata": {
    "collapsed": false
   },
   "outputs": [
    {
     "name": "stdout",
     "output_type": "stream",
     "text": [
      "0 saude\n",
      "1 hospital\n",
      "2 medicos\n",
      "3 orcamento\n",
      "4 loa\n",
      "5 qualidade\n",
      "6 lrf\n",
      "7 precario\n",
      "8 gastos\n",
      "9 aumento\n"
     ]
    }
   ],
   "source": [
    "dicionario = gensim.corpora.Dictionary(df_textos.tokens)\n",
    "dicionario_formato_nmf = {key: value for (value, key) in dicionario.iteritems()}\n",
    "for k, v in sorted(dicionario.iteritems()):\n",
    "    print k, v"
   ]
  },
  {
   "cell_type": "code",
   "execution_count": 285,
   "metadata": {
    "collapsed": true
   },
   "outputs": [],
   "source": [
    "# Valores usados no modelo NMF\n",
    "num_topicos = 3\n",
    "n_top_words = 4\n",
    "\n",
    "def print_top_words(model, feature_names, n_top_words):\n",
    "    for topic_idx, topic in enumerate(model.components_):\n",
    "        print(\"Topico #%d:\" % topic_idx)\n",
    "        print(\" \".join([feature_names[i]\n",
    "                        for i in topic.argsort()[:-n_top_words - 1:-1]]))\n",
    "    print()"
   ]
  },
  {
   "cell_type": "code",
   "execution_count": 286,
   "metadata": {
    "collapsed": true
   },
   "outputs": [],
   "source": [
    "# tfidf para NMF.\n",
    "tfidf_vectorizer = TfidfVectorizer(\n",
    "                                   vocabulary=dicionario_formato_nmf\n",
    "                                   )\n",
    "tfidf = tfidf_vectorizer.fit_transform(df_textos.texto_inicial)"
   ]
  },
  {
   "cell_type": "code",
   "execution_count": 287,
   "metadata": {
    "collapsed": false
   },
   "outputs": [],
   "source": [
    "tfidf_coo = tfidf.tocoo(copy=False)"
   ]
  },
  {
   "cell_type": "code",
   "execution_count": 288,
   "metadata": {
    "collapsed": false
   },
   "outputs": [],
   "source": [
    "df_tfidf = pd.DataFrame({'documento': tfidf_coo.row, 'palavra': tfidf_coo.col, 'peso': tfidf_coo.data}\n",
    "                 )[['documento', 'palavra', 'peso']].sort_values(['documento', 'palavra']\n",
    "                 ).reset_index(drop=True)"
   ]
  },
  {
   "cell_type": "markdown",
   "metadata": {},
   "source": [
    "### O resultado final da matriz TFIDF é dado abaixo, em uma representação simplificada (os valores zero não estão representados)\n",
    "\n",
    "#### Os valores não tem uma interpretação direta, apenas guardam uma relação com a importância do termo para o texto, levando em conta, de forma inversa, a importância da palavra para todos os textos.\n",
    "\n",
    "Só pra não ficar em branco de onde vem os numeros abaixo: Cada peso é calculado como:\n",
    "\n",
    "\n",
    "\\begin{equation*}\n",
    "\\text{tf-idf(t,d)}=\\text{tf(t,d)} \\times \\text{idf(t)}.\n",
    "\\end{equation*}\n",
    "Using the TfidfTransformer‘s default settings, the term frequency, tf(t,d), the number of times a term occurs in a given document, is multiplied with idf component, which is computed as\n",
    "\\begin{equation*}\n",
    "\\text{idf}(t) = log{\\frac{1 + n_d}{1+\\text{df}(d,t)}} + 1,\n",
    "\\end{equation*}\n",
    "where n_d   is the total number of documents, and {df}(d,t) is the number of documents that contain term t. The resulting tf-idf vectors are then normalized by the Euclidean norm:\n",
    "\\begin{equation*}\n",
    "v_{norm} = \\frac{v}{||v||_2} = \\frac{v}{\\sqrt{v{_1}^2 +\n",
    "v{_2}^2 + \\dots + v{_n}^2}}.\n",
    "\\end{equation*}"
   ]
  },
  {
   "cell_type": "markdown",
   "metadata": {},
   "source": [
    "#### Por exemplo, no documento 0, apenas tem pesos associados as palavras 0,1,2,3, com maior peso para a palavra 2 (medicos)"
   ]
  },
  {
   "cell_type": "code",
   "execution_count": 289,
   "metadata": {
    "collapsed": false,
    "scrolled": true
   },
   "outputs": [
    {
     "data": {
      "text/html": [
       "<div>\n",
       "<table border=\"1\" class=\"dataframe\">\n",
       "  <thead>\n",
       "    <tr style=\"text-align: right;\">\n",
       "      <th></th>\n",
       "      <th>documento</th>\n",
       "      <th>palavra</th>\n",
       "      <th>peso</th>\n",
       "    </tr>\n",
       "  </thead>\n",
       "  <tbody>\n",
       "    <tr>\n",
       "      <th>0</th>\n",
       "      <td>0</td>\n",
       "      <td>0</td>\n",
       "      <td>0.497096</td>\n",
       "    </tr>\n",
       "    <tr>\n",
       "      <th>1</th>\n",
       "      <td>0</td>\n",
       "      <td>1</td>\n",
       "      <td>0.497096</td>\n",
       "    </tr>\n",
       "    <tr>\n",
       "      <th>2</th>\n",
       "      <td>0</td>\n",
       "      <td>2</td>\n",
       "      <td>0.630504</td>\n",
       "    </tr>\n",
       "    <tr>\n",
       "      <th>3</th>\n",
       "      <td>0</td>\n",
       "      <td>3</td>\n",
       "      <td>0.329023</td>\n",
       "    </tr>\n",
       "    <tr>\n",
       "      <th>4</th>\n",
       "      <td>1</td>\n",
       "      <td>3</td>\n",
       "      <td>0.695105</td>\n",
       "    </tr>\n",
       "    <tr>\n",
       "      <th>5</th>\n",
       "      <td>1</td>\n",
       "      <td>4</td>\n",
       "      <td>0.350061</td>\n",
       "    </tr>\n",
       "    <tr>\n",
       "      <th>6</th>\n",
       "      <td>1</td>\n",
       "      <td>5</td>\n",
       "      <td>0.444008</td>\n",
       "    </tr>\n",
       "    <tr>\n",
       "      <th>7</th>\n",
       "      <td>1</td>\n",
       "      <td>6</td>\n",
       "      <td>0.444008</td>\n",
       "    </tr>\n",
       "    <tr>\n",
       "      <th>8</th>\n",
       "      <td>2</td>\n",
       "      <td>0</td>\n",
       "      <td>0.345833</td>\n",
       "    </tr>\n",
       "    <tr>\n",
       "      <th>9</th>\n",
       "      <td>2</td>\n",
       "      <td>1</td>\n",
       "      <td>0.691666</td>\n",
       "    </tr>\n",
       "    <tr>\n",
       "      <th>10</th>\n",
       "      <td>2</td>\n",
       "      <td>3</td>\n",
       "      <td>0.457807</td>\n",
       "    </tr>\n",
       "    <tr>\n",
       "      <th>11</th>\n",
       "      <td>2</td>\n",
       "      <td>7</td>\n",
       "      <td>0.438646</td>\n",
       "    </tr>\n",
       "    <tr>\n",
       "      <th>12</th>\n",
       "      <td>3</td>\n",
       "      <td>3</td>\n",
       "      <td>0.306758</td>\n",
       "    </tr>\n",
       "    <tr>\n",
       "      <th>13</th>\n",
       "      <td>3</td>\n",
       "      <td>4</td>\n",
       "      <td>0.463458</td>\n",
       "    </tr>\n",
       "    <tr>\n",
       "      <th>14</th>\n",
       "      <td>3</td>\n",
       "      <td>8</td>\n",
       "      <td>0.587838</td>\n",
       "    </tr>\n",
       "    <tr>\n",
       "      <th>15</th>\n",
       "      <td>3</td>\n",
       "      <td>9</td>\n",
       "      <td>0.587838</td>\n",
       "    </tr>\n",
       "  </tbody>\n",
       "</table>\n",
       "</div>"
      ],
      "text/plain": [
       "    documento  palavra      peso\n",
       "0           0        0  0.497096\n",
       "1           0        1  0.497096\n",
       "2           0        2  0.630504\n",
       "3           0        3  0.329023\n",
       "4           1        3  0.695105\n",
       "5           1        4  0.350061\n",
       "6           1        5  0.444008\n",
       "7           1        6  0.444008\n",
       "8           2        0  0.345833\n",
       "9           2        1  0.691666\n",
       "10          2        3  0.457807\n",
       "11          2        7  0.438646\n",
       "12          3        3  0.306758\n",
       "13          3        4  0.463458\n",
       "14          3        8  0.587838\n",
       "15          3        9  0.587838"
      ]
     },
     "execution_count": 289,
     "metadata": {},
     "output_type": "execute_result"
    }
   ],
   "source": [
    "df_tfidf"
   ]
  },
  {
   "cell_type": "markdown",
   "metadata": {},
   "source": [
    "### O objetivo do modelo NMF é gerar a decomposicao da matriz TFIDF.\n",
    "A matriz é de dimensao Numero de documentos (4) x numero de termos (10) que poderiam estar presentes (total do dicionario)"
   ]
  },
  {
   "cell_type": "code",
   "execution_count": 290,
   "metadata": {
    "collapsed": false,
    "scrolled": false
   },
   "outputs": [
    {
     "data": {
      "text/plain": [
       "<4x10 sparse matrix of type '<type 'numpy.float64'>'\n",
       "\twith 16 stored elements in Compressed Sparse Row format>"
      ]
     },
     "execution_count": 290,
     "metadata": {},
     "output_type": "execute_result"
    }
   ],
   "source": [
    "tfidf"
   ]
  },
  {
   "cell_type": "code",
   "execution_count": 291,
   "metadata": {
    "collapsed": false,
    "scrolled": true
   },
   "outputs": [
    {
     "name": "stdout",
     "output_type": "stream",
     "text": [
      "\n",
      "Topicos no NMF:\n",
      "Topico #0:\n",
      "hospital saude orcamento medicos\n",
      "Topico #1:\n",
      "aumento gastos loa orcamento\n",
      "Topico #2:\n",
      "orcamento lrf qualidade loa\n",
      "()\n"
     ]
    }
   ],
   "source": [
    "# Modelo NMF \n",
    "nmf = NMF(n_components=3, random_state=1,\n",
    "          alpha=.1, l1_ratio=.5, init='nndsvd').fit(tfidf)\n",
    "\n",
    "print(\"\\nTopicos no NMF:\")\n",
    "tfidf_feature_names = tfidf_vectorizer.get_feature_names()\n",
    "print_top_words(nmf, tfidf_feature_names, n_top_words)"
   ]
  },
  {
   "cell_type": "markdown",
   "metadata": {},
   "source": [
    "A decomposicao acima foi feita com o numero de tópicos = 3.  O modelo tenta minimizar o erro da decomposição da matriz tfidf em duas matrizes de componentes não negativos: \n",
    "#### tfidf(dimensao=4x10) = W(dimensao=4x3) *H(dimensao=3x10)\n"
   ]
  },
  {
   "cell_type": "markdown",
   "metadata": {},
   "source": [
    "#### Desta forma, cada linha do componente W da decomposicao pode ser interpretado como um vetor que demonstra a presença de cada tópico nos textos:"
   ]
  },
  {
   "cell_type": "code",
   "execution_count": 281,
   "metadata": {
    "collapsed": false,
    "scrolled": true
   },
   "outputs": [
    {
     "name": "stdout",
     "output_type": "stream",
     "text": [
      "[0.83455896264791718, 0.0, 0.0]\n",
      "[0.0, 0.0, 1.0679449715896323]\n",
      "[0.82643699146350214, 0.0, 0.024758729699659528]\n",
      "[0.0, 1.0737573447675506, 0.0027315737106655036]\n"
     ]
    }
   ],
   "source": [
    "ocorrencia_topicos =nmf.transform(tfidf)\n",
    "\n",
    "for documento in ocorrencia_topicos:\n",
    "    print list(documento)"
   ]
  },
  {
   "cell_type": "markdown",
   "metadata": {},
   "source": [
    "#### e cada linha do componente H demonstra a presenca de cada palavra nos tópicos:\n",
    " \n",
    " Observem a ordem das palavras no dicionario. Esta é a ordem das importancias associadas as palavras nos tópicos."
   ]
  },
  {
   "cell_type": "code",
   "execution_count": 282,
   "metadata": {
    "collapsed": false,
    "scrolled": false
   },
   "outputs": [
    {
     "name": "stdout",
     "output_type": "stream",
     "text": [
      "[0.45519418881468132, 0.65514245604938082, 0.33313507265366404, 0.41344964696911196, 0.0, 0.0, 0.0, 0.21862793703546615, 0.0, 0.0]\n",
      "[0.0, 0.0, 0.0, 0.23082665467270774, 0.37145791192224714, 0.0, 0.0, 0.0, 0.48314310572128216, 0.48314310572128216]\n",
      "[0.0, 0.0, 0.0, 0.58378844107696026, 0.27202869848146438, 0.35611145394712762, 0.35611145394712762, 0.0, 0.0, 0.0]\n",
      "0 saude\n",
      "1 hospital\n",
      "2 medicos\n",
      "3 orcamento\n",
      "4 loa\n",
      "5 qualidade\n",
      "6 lrf\n",
      "7 precario\n",
      "8 gastos\n",
      "9 aumento\n"
     ]
    }
   ],
   "source": [
    "for topico in nmf.components_:\n",
    "    print list(topico)\n",
    "for k, v in sorted(dicionario.iteritems()):\n",
    "    print k, v"
   ]
  },
  {
   "cell_type": "markdown",
   "metadata": {},
   "source": [
    "### Assim, podemos voltar a pergunta do André:\n",
    "#### Como os grupos temáticos são formados? \n",
    "\n",
    "Como tudo parte da matriz TFIDF, existem 3 componentes fundamentais para determinar os tópicos:\n",
    "- A frequencia do termo no texto em relacao aos outros textos (vai determinar importancia da palavra para o texto)\n",
    "- A proximidade desta importancia relativa na matriz TFIDF em textos diferentes. Ou seja, se uma palavra possui importancia relativa parecida em muitos textos, ela tem maior chance de aparecer de forma relevante dentro de um tópico.\n",
    "- A co-ocorrencia de palavras nos textos, pois facilita a minimizacao do erro na estimativa da decomposição quando comparada a matriz TFIDF original.\n",
    "\n",
    "Explorem o exemplo acima para entender melhor:\n",
    "Por exemplo, para o tópico 0 (primeira linha), a maior importancia esta em hospital, depois saude, pois hospital ocorre mais vezes que saude, quando estes dois ocorrem juntos. Orcamento só é a terceira mais importante neste tópico, pois sua importancia na matriz é baixa, pois ocorre em todos os textos. Sua importancia será maior no tópico em que ele ocorrerá mais vezes.\n",
    "\n",
    "### Como os diversos grupos de orçamento foram formados, a partir do radical \"orçament\" ?\n",
    "\n",
    "obs: Acho que esqueci de falar sobre isso no outro email, mas a coluna ASSUNTO da planilha excel foi determinada por mim a partir das palavras e dos discursos, apos uma rápida observação. Talvez isso tenha gerado confusão.\n",
    "\n",
    "Então da mesma forma que expliquei acima, a partir da quantidade de tópicos pré definida, o modelo se ajustou para encontrar palavras relevantes e que ocorrem de forma conjunta nos textos. Assim foram identificados alguns tópicos com relacionados a orçamento (na minha breve análise).\n",
    "\n",
    "\n"
   ]
  },
  {
   "cell_type": "markdown",
   "metadata": {},
   "source": [
    "####  Sendo assim, podemos associar o tópico mais presente para cada discurso. Foi isso que fiz para analisar a evolucao no email anterior."
   ]
  },
  {
   "cell_type": "code",
   "execution_count": 283,
   "metadata": {
    "collapsed": true
   },
   "outputs": [],
   "source": [
    "ocorrencia_topicos =nmf.transform(tfidf)\n",
    "\n",
    "lista_topico_principal_por_discurso = []\n",
    "for discurso in ocorrencia_topicos:\n",
    "    topico, relevancia =  max(enumerate(discurso), key=lambda x: x[1])\n",
    "    lista_topico_principal_por_discurso.append(topico)\n",
    "df_textos['topico_principal'] = pd.Series(lista_topico_principal_por_discurso, index=df_textos.index)"
   ]
  },
  {
   "cell_type": "code",
   "execution_count": 284,
   "metadata": {
    "collapsed": false
   },
   "outputs": [
    {
     "data": {
      "text/html": [
       "<div>\n",
       "<table border=\"1\" class=\"dataframe\">\n",
       "  <thead>\n",
       "    <tr style=\"text-align: right;\">\n",
       "      <th></th>\n",
       "      <th>texto_inicial</th>\n",
       "      <th>tokens</th>\n",
       "      <th>topico_principal</th>\n",
       "    </tr>\n",
       "  </thead>\n",
       "  <tbody>\n",
       "    <tr>\n",
       "      <th>0</th>\n",
       "      <td>orcamento saude hospital medicos</td>\n",
       "      <td>[orcamento, saude, hospital, medicos]</td>\n",
       "      <td>0</td>\n",
       "    </tr>\n",
       "    <tr>\n",
       "      <th>1</th>\n",
       "      <td>orcamento loa responsabilidade qualidade orcam...</td>\n",
       "      <td>[orcamento, loa, qualidade, orcamento, lrf, or...</td>\n",
       "      <td>2</td>\n",
       "    </tr>\n",
       "    <tr>\n",
       "      <th>2</th>\n",
       "      <td>orcamento hospital hospital saude precario orc...</td>\n",
       "      <td>[orcamento, hospital, hospital, saude, precari...</td>\n",
       "      <td>0</td>\n",
       "    </tr>\n",
       "    <tr>\n",
       "      <th>3</th>\n",
       "      <td>orcamento aumento gastos loa</td>\n",
       "      <td>[orcamento, aumento, gastos, loa]</td>\n",
       "      <td>1</td>\n",
       "    </tr>\n",
       "  </tbody>\n",
       "</table>\n",
       "</div>"
      ],
      "text/plain": [
       "                                       texto_inicial  \\\n",
       "0                   orcamento saude hospital medicos   \n",
       "1  orcamento loa responsabilidade qualidade orcam...   \n",
       "2  orcamento hospital hospital saude precario orc...   \n",
       "3                       orcamento aumento gastos loa   \n",
       "\n",
       "                                              tokens  topico_principal  \n",
       "0              [orcamento, saude, hospital, medicos]                 0  \n",
       "1  [orcamento, loa, qualidade, orcamento, lrf, or...                 2  \n",
       "2  [orcamento, hospital, hospital, saude, precari...                 0  \n",
       "3                  [orcamento, aumento, gastos, loa]                 1  "
      ]
     },
     "execution_count": 284,
     "metadata": {},
     "output_type": "execute_result"
    }
   ],
   "source": [
    "df_textos"
   ]
  },
  {
   "cell_type": "code",
   "execution_count": null,
   "metadata": {
    "collapsed": true
   },
   "outputs": [],
   "source": []
  }
 ],
 "metadata": {
  "anaconda-cloud": {},
  "kernelspec": {
   "display_name": "Python [conda env:Analise_discursos_camara]",
   "language": "python",
   "name": "conda-env-Analise_discursos_camara-py"
  },
  "language_info": {
   "codemirror_mode": {
    "name": "ipython",
    "version": 2
   },
   "file_extension": ".py",
   "mimetype": "text/x-python",
   "name": "python",
   "nbconvert_exporter": "python",
   "pygments_lexer": "ipython2",
   "version": "2.7.12"
  }
 },
 "nbformat": 4,
 "nbformat_minor": 1
}
